{
  "nbformat": 4,
  "nbformat_minor": 0,
  "metadata": {
    "colab": {
      "provenance": [],
      "authorship_tag": "ABX9TyMYFUSIbv17MQo9pLwDJZGt",
      "include_colab_link": true
    },
    "kernelspec": {
      "name": "python3",
      "display_name": "Python 3"
    },
    "language_info": {
      "name": "python"
    }
  },
  "cells": [
    {
      "cell_type": "markdown",
      "metadata": {
        "id": "view-in-github",
        "colab_type": "text"
      },
      "source": [
        "<a href=\"https://colab.research.google.com/github/Vinicius-Ikehara/Alura_Formacoes/blob/main/Classifica%C3%A7%C3%A3o_Linear.ipynb\" target=\"_parent\"><img src=\"https://colab.research.google.com/assets/colab-badge.svg\" alt=\"Open In Colab\"/></a>"
      ]
    },
    {
      "cell_type": "markdown",
      "source": [
        "\n",
        "**Classificação Linear**\n",
        "\n",
        "Nesse notebook vamos refrescar a sua memória sobre equações lineares ao mesmo tempo que te ajudaremos a enxergar uma reta como um classificador linear."
      ],
      "metadata": {
        "id": "Kq_vcuqRDim6"
      }
    },
    {
      "cell_type": "markdown",
      "source": [
        "**Equação da Reta**\n",
        "\n",
        "Forma: ax + by + c\n",
        "\n",
        "Na nomenclatura das redes neurais a forma é: w1x1 + w2x2 + b.\n",
        "Ou seja, w1, w2 e b são parâmetros que definem nossa eq linear.\n",
        "\n",
        "Vamos começar realizando o plot de uma reta específica: -1.(x1) + 4.(x2) + 0.4"
      ],
      "metadata": {
        "id": "cyLN9-ECD7nP"
      }
    },
    {
      "cell_type": "code",
      "execution_count": null,
      "metadata": {
        "colab": {
          "base_uri": "https://localhost:8080/",
          "height": 265
        },
        "id": "yChZDeC5Dc3z",
        "outputId": "c83ca620-37c2-4e7c-d83e-c332a54174c5"
      },
      "outputs": [
        {
          "output_type": "display_data",
          "data": {
            "text/plain": [
              "<Figure size 432x288 with 1 Axes>"
            ],
            "image/png": "[encoded data removed]"
          },
          "metadata": {
            "needs_background": "light"
          }
        }
      ],
      "source": [
        "import numpy as np\n",
        "import matplotlib.pyplot as plt\n",
        "\n",
        "a = -1\n",
        "b = 4 \n",
        "c = 0.4\n",
        "\n",
        "# ax + by + c = 0\n",
        "# y = (-a*x -c)/b\n",
        "\n",
        "def plotline(a,b,c):\n",
        "  x = np.linspace(-2, 4, 50) #linspace cria um vetor com valores entre -2 e 4 com tamanho 50\n",
        "  y = (-a*x -c)/b\n",
        "  plt.axvline(0,-1,1, color='k',linewidth=1)\n",
        "  plt.axhline(0,-2,4, color='k',linewidth=1)\n",
        "  plt.plot (x,y)\n",
        "  plt.grid(True)\n",
        "\n",
        "plotline(a,b,c)\n"
      ]
    },
    {
      "cell_type": "markdown",
      "source": [
        "**Solucionando a equação da reta para diferentes pontos**\n",
        "\n",
        "A seguir vamos selecionar três pontos no espaço, e solucionar a equação da reta para esses pontos."
      ],
      "metadata": {
        "id": "SXzvmUdbGgJx"
      }
    },
    {
      "cell_type": "code",
      "source": [
        "p1 = (2,0.4)\n",
        "ret1 = a*p1[0] + b*p1[1] + c\n",
        "\n",
        "plotline(a,b,c)\n",
        "plt.plot(p1[0], p1[1], color = 'b', marker ='o')"
      ],
      "metadata": {
        "colab": {
          "base_uri": "https://localhost:8080/",
          "height": 282
        },
        "id": "60_8PD5fGxbU",
        "outputId": "10326bd9-91d6-4294-dc46-684c6d6ed2a4"
      },
      "execution_count": null,
      "outputs": [
        {
          "output_type": "execute_result",
          "data": {
            "text/plain": [
              "[<matplotlib.lines.Line2D at 0x7f81538290d0>]"
            ]
          },
          "metadata": {},
          "execution_count": 10
        },
        {
          "output_type": "display_data",
          "data": {
            "text/plain": [
              "<Figure size 432x288 with 1 Axes>"
            ],
            "image/png": "[encoded data removed]"
          },
          "metadata": {
            "needs_background": "light"
          }
        }
      ]
    },
    {
      "cell_type": "code",
      "source": [
        "#Escolhendo pontos sobre a a reta\n",
        "ret1 = a*p1[0] + b*p1[1] + c\n",
        "print(\"%.2f\" % ret1)"
      ],
      "metadata": {
        "colab": {
          "base_uri": "https://localhost:8080/"
        },
        "id": "wYdAA0GsKmcX",
        "outputId": "7310ae98-484e-4bf2-fad6-65cfdd88ee5a"
      },
      "execution_count": null,
      "outputs": [
        {
          "output_type": "stream",
          "name": "stdout",
          "text": [
            "0.00\n"
          ]
        }
      ]
    },
    {
      "cell_type": "code",
      "source": [
        "p1 = (2,0.4)\n",
        "#Escolhendo pontos fora da reta\n",
        "p2 = (1, 0.6)\n",
        "\n",
        "ret1 = a*p1[0] + b*p1[1] + c\n",
        "ret2 = a*p2[0] + b*p2[1] + c\n",
        "\n",
        "plotline(a,b,c)\n",
        "plt.plot(p1[0], p1[1], color = 'b', marker ='o')\n",
        "plt.plot(p2[0], p2[1], color = 'r', marker ='o')\n"
      ],
      "metadata": {
        "colab": {
          "base_uri": "https://localhost:8080/",
          "height": 282
        },
        "id": "K1dJExiZKx3D",
        "outputId": "0469a25e-5296-4e6f-92d8-a2fbeb55a115"
      },
      "execution_count": null,
      "outputs": [
        {
          "output_type": "execute_result",
          "data": {
            "text/plain": [
              "[<matplotlib.lines.Line2D at 0x7f8153751110>]"
            ]
          },
          "metadata": {},
          "execution_count": 12
        },
        {
          "output_type": "display_data",
          "data": {
            "text/plain": [
              "<Figure size 432x288 with 1 Axes>"
            ],
            "image/png": "[encoded data removed]"
          },
          "metadata": {
            "needs_background": "light"
          }
        }
      ]
    },
    {
      "cell_type": "code",
      "source": [
        "#Escolhendo pontos sobre a a reta\n",
        "ret1 = a*p1[0] + b*p1[1] + c\n",
        "print(\"%.2f\" % ret1)\n",
        "#Escolhendo pontos fora da reta\n",
        "ret2 = a*p2[0] + b*p2[1] + c\n",
        "print(\"%.2f\" % ret1)\n"
      ],
      "metadata": {
        "colab": {
          "base_uri": "https://localhost:8080/"
        },
        "id": "pHhmiBzVLkGd",
        "outputId": "a48c7204-439f-4c5d-f8ef-d4f5c317744f"
      },
      "execution_count": null,
      "outputs": [
        {
          "output_type": "stream",
          "name": "stdout",
          "text": [
            "0.00\n",
            "0.00\n"
          ]
        }
      ]
    },
    {
      "cell_type": "code",
      "source": [
        "\n",
        "#Escolhendo pontos dentro da reta\n",
        "p1 = (2,0.4)\n",
        "#Escolhendo pontos fora da reta\n",
        "p2 = (1, 0.6)\n",
        "#Escolhendo pontos abaixo da reta\n",
        "p3 = (3,-0.4)\n",
        "\n",
        "ret1 = a*p1[0] + b*p1[1] + c\n",
        "ret2 = a*p2[0] + b*p2[1] + c\n",
        "ret3 = a*p3[0] + b*p3[1] + c\n",
        "\n",
        "\n",
        "plotline(a,b,c)\n",
        "plt.plot(p1[0], p1[1], color = 'b', marker ='o')\n",
        "plt.plot(p2[0], p2[1], color = 'r', marker ='o')\n",
        "plt.plot(p3[0], p3[1], color = 'g', marker ='o')"
      ],
      "metadata": {
        "colab": {
          "base_uri": "https://localhost:8080/",
          "height": 282
        },
        "id": "g5EUE0RdLKw3",
        "outputId": "5f8eb18a-78d0-4899-acae-73ca0a99493d"
      },
      "execution_count": null,
      "outputs": [
        {
          "output_type": "execute_result",
          "data": {
            "text/plain": [
              "[<matplotlib.lines.Line2D at 0x7f815360c1d0>]"
            ]
          },
          "metadata": {},
          "execution_count": 17
        },
        {
          "output_type": "display_data",
          "data": {
            "text/plain": [
              "<Figure size 432x288 with 1 Axes>"
            ],
            "image/png": "[encoded data removed]"
          },
          "metadata": {
            "needs_background": "light"
          }
        }
      ]
    },
    {
      "cell_type": "code",
      "source": [
        "ret1 = a*p1[0] + b*p1[1] + c\n",
        "print(\"%.2f\" % ret1)\n",
        "ret2 = a*p2[0] + b*p2[1] + c\n",
        "print(\"%.2f\" % ret2)\n",
        "ret3 = a*p2[0] + b*p2[1] + c\n",
        "print(\"%.2f\" % ret3)\n"
      ],
      "metadata": {
        "colab": {
          "base_uri": "https://localhost:8080/"
        },
        "id": "s5AL3IAyMaFD",
        "outputId": "a1c57f88-e698-4064-aa88-b6a515c4c20d"
      },
      "execution_count": null,
      "outputs": [
        {
          "output_type": "stream",
          "name": "stdout",
          "text": [
            "0.00\n",
            "1.80\n",
            "1.80\n"
          ]
        }
      ]
    },
    {
      "cell_type": "code",
      "source": [
        "from sklearn.datasets import make_classification\n",
        "import matplotlib.pyplot as plt\n",
        "import numpy as np \n",
        "\n",
        "\n",
        "np.random.seed(46)\n",
        "\n",
        "X, Y = make_classification(n_features=2, n_redundant=0, n_informative=1,n_cluster_per_class=1)\n",
        "\n",
        "plt.scatter()\n",
        "\n",
        "p = X[10]\n",
        "plt.plot(p[0],p[1], marker='^', markersize=20)"
      ],
      "metadata": {
        "colab": {
          "base_uri": "https://localhost:8080/",
          "height": 130
        },
        "id": "tVK12zZlUofS",
        "outputId": "1f407d04-ade4-4b5a-eb21-c6be91c7384f"
      },
      "execution_count": null,
      "outputs": [
        {
          "output_type": "error",
          "ename": "SyntaxError",
          "evalue": "ignored",
          "traceback": [
            "\u001b[0;36m  File \u001b[0;32m\"<ipython-input-13-0a66c8002518>\"\u001b[0;36m, line \u001b[0;32m10\u001b[0m\n\u001b[0;31m    plt.scatter(X[:, 0]), X[:, 1], marker='o', c=Y, edgecolor ='k',)\u001b[0m\n\u001b[0m                                                                   ^\u001b[0m\n\u001b[0;31mSyntaxError\u001b[0m\u001b[0;31m:\u001b[0m invalid syntax\n"
          ]
        }
      ]
    }
  ]
}