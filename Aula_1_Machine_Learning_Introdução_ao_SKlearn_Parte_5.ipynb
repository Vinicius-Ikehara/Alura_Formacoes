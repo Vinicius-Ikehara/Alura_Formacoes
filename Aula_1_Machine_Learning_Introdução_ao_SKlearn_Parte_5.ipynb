{
  "nbformat": 4,
  "nbformat_minor": 0,
  "metadata": {
    "colab": {
      "provenance": [],
      "collapsed_sections": [],
      "authorship_tag": "ABX9TyNh+XPxmFB+NPjI5LLOsDq6",
      "include_colab_link": true
    },
    "kernelspec": {
      "name": "python3",
      "display_name": "Python 3"
    },
    "language_info": {
      "name": "python"
    }
  },
  "cells": [
    {
      "cell_type": "markdown",
      "metadata": {
        "id": "view-in-github",
        "colab_type": "text"
      },
      "source": [
        "<a href=\"https://colab.research.google.com/github/Vinicius-Ikehara/Alura_Formacoes/blob/main/Aula_1_Machine_Learning_Introdu%C3%A7%C3%A3o_ao_SKlearn_Parte_5.ipynb\" target=\"_parent\"><img src=\"https://colab.research.google.com/assets/colab-badge.svg\" alt=\"Open In Colab\"/></a>"
      ]
    },
    {
      "cell_type": "markdown",
      "source": [
        "Definindo Características e Classes"
      ],
      "metadata": {
        "id": "re8cX31gtEUE"
      }
    },
    {
      "cell_type": "code",
      "execution_count": null,
      "metadata": {
        "id": "FpicaaixqWpc"
      },
      "outputs": [],
      "source": [
        "# features (1 sim, 0 não)\n",
        "# pelo longo?\n",
        "# perna curta?\n",
        "# faz au au?\n",
        "\n",
        "porco1 = [0, 1, 0] # não possui pelo longo, possui perna curta e não faz au au (porco)\n",
        "porco2 = [0, 1, 1] # não possui pelo longo, possui perna curta e faz au au (porco)\n",
        "porco3 = [1, 1, 0] # possui pelo longo, possui perna curta e não faz au au (porco)\n",
        "\n",
        "cachorro1 = [0,1,1] # não possui pelo longo, possui perna curta e faz au au (cachorro)\n",
        "cachorro2 = [1,0,1] # possui pelo longo, não possui perna curta e faz au au (cachorro)\n",
        "cachorro3 = [1,1,1] # possui pelo longo, possui perna curta e faz au au (cachorro)\n",
        "\n",
        "treino_x = [porco1, porco2, porco3, cachorro1, cachorro2, cachorro3]\n",
        "treino_y = [1,1,1,0,0,0] #se 1 então é porco, se 0 então é cachorro (labels / etiqueta)"
      ]
    },
    {
      "cell_type": "code",
      "source": [
        "#Sciklit learn - Biblioteca para trabalhar com aprendizado supervisionado\n",
        "\n",
        "from sklearn.svm import LinearSVC\n",
        "\n",
        "model = LinearSVC()\n",
        "model.fit(treino_x, treino_y)"
      ],
      "metadata": {
        "colab": {
          "base_uri": "https://localhost:8080/"
        },
        "id": "m0INhIRLsPXS",
        "outputId": "4e99be17-bd15-4636-c172-760bc3b31dd2"
      },
      "execution_count": null,
      "outputs": [
        {
          "output_type": "execute_result",
          "data": {
            "text/plain": [
              "LinearSVC()"
            ]
          },
          "metadata": {},
          "execution_count": 2
        }
      ]
    },
    {
      "cell_type": "code",
      "source": [
        "animal_misterioso = [1,1,1] # primeiro animal misterioso\n",
        "model.predict([animal_misterioso])"
      ],
      "metadata": {
        "colab": {
          "base_uri": "https://localhost:8080/"
        },
        "id": "H6veD7g7sdtJ",
        "outputId": "417eb63a-19ff-42fc-c827-d26cd746e9f3"
      },
      "execution_count": null,
      "outputs": [
        {
          "output_type": "execute_result",
          "data": {
            "text/plain": [
              "array([0])"
            ]
          },
          "metadata": {},
          "execution_count": 3
        }
      ]
    },
    {
      "cell_type": "code",
      "source": [
        "#animais a serem classificados\n",
        "misterio1 = [1,1,1]\n",
        "misterio2 = [1,1,0]\n",
        "misterio3 = [0,1,1]\n",
        "\n",
        "testes_x = [misterio1, misterio2, misterio3] #lista teste\n",
        "testes_y = [0,1,1]\n",
        "previsoes = model.predict(testes_x) #previsão"
      ],
      "metadata": {
        "id": "CfAaN9z9sv2A"
      },
      "execution_count": null,
      "outputs": []
    },
    {
      "cell_type": "code",
      "source": [
        "#Para ver a taxa de acerto\n",
        "\n",
        "corretos = (previsoes == testes_y).sum() # soma o número de valores verdadeiros entre a comparação da previsão e o resultado verdadeiro dos testes\n",
        "total = len(testes_x) #tamanho do vetor de testes\n",
        "taxa_de_acerto = corretos/total \n",
        "print(\"Taxa de acerto %.2f \" % (taxa_de_acerto * 100))"
      ],
      "metadata": {
        "colab": {
          "base_uri": "https://localhost:8080/"
        },
        "id": "-3pMUND1uiZ-",
        "outputId": "d2e5afc0-674c-47ae-d1e9-15d725d437d2"
      },
      "execution_count": null,
      "outputs": [
        {
          "output_type": "stream",
          "name": "stdout",
          "text": [
            "Taxa de acerto 66.67 \n"
          ]
        }
      ]
    },
    {
      "cell_type": "markdown",
      "source": [
        "Aqui fizemos a mão mas a SKlearn possui uma função já pronta de accuracy, para ver essa taxa de acerto\n"
      ],
      "metadata": {
        "id": "0QxMOju5vR0s"
      }
    },
    {
      "cell_type": "code",
      "source": [
        "from sklearn.metrics import accuracy_score\n",
        "\n",
        "taxa_de_acerto = accuracy_score(testes_y, previsoes)\n",
        "print(\"Taxa de acerto %.2f \" % (taxa_de_acerto * 100))"
      ],
      "metadata": {
        "colab": {
          "base_uri": "https://localhost:8080/"
        },
        "id": "bwA_JVFbva7x",
        "outputId": "95118389-6186-485f-b356-03dff60178dd"
      },
      "execution_count": null,
      "outputs": [
        {
          "output_type": "stream",
          "name": "stdout",
          "text": [
            "Taxa de acerto 66.67 \n"
          ]
        }
      ]
    }
  ]
}